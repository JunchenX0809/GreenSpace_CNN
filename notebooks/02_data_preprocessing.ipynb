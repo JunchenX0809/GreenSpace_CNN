{
  "cells": [
    {
      "cell_type": "markdown",
      "metadata": {},
      "source": [
        "# 02. Data Preprocessing - GreenSpace CNN\n",
        "\n",
        "This notebook handles data preprocessing for the multi-task greenspace CNN:\n",
        "- Survey response cleaning and label processing  \n",
        "- Image preprocessing and augmentation setup\n",
        "- Train/validation/test splits\n",
        "- Data pipeline creation for TensorFlow/Keras\n",
        "\n",
        "## Steps\n",
        "1. Load and clean survey data\n",
        "2. Handle multi-rater aggregation \n",
        "3. Process images (resize, normalize)\n",
        "4. Create data splits\n",
        "5. Set up TensorFlow data pipelines\n"
      ]
    }
  ],
  "metadata": {
    "language_info": {
      "name": "python"
    }
  },
  "nbformat": 4,
  "nbformat_minor": 2
}
