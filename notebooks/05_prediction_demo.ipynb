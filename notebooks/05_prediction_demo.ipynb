{
  "cells": [
    {
      "cell_type": "markdown",
      "metadata": {},
      "source": [
        "# 05. Prediction Demo (Optional) - GreenSpace CNN\n",
        "\n",
        "Interactive demo for making predictions on new satellite images.\n",
        "\n",
        "## Features\n",
        "- Upload and predict on new images\n",
        "- Visualize model predictions with confidence scores\n",
        "- Compare multiple images side-by-side\n",
        "- Export predictions to CSV\n",
        "- Interactive widgets for easy use\n",
        "\n",
        "## Outputs\n",
        "For each image, the model predicts:\n",
        "1. **Structured rating**: 0-1 scale (normalized from 1-5)\n",
        "2. **Binary features**: Probability for each of 6 features\n",
        "3. **Shade level**: Classification into None/Some/Abundant with confidence\n"
      ]
    }
  ],
  "metadata": {
    "language_info": {
      "name": "python"
    }
  },
  "nbformat": 4,
  "nbformat_minor": 2
}
