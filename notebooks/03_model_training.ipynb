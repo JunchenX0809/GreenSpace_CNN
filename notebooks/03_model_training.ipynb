{
  "cells": [
    {
      "cell_type": "markdown",
      "metadata": {},
      "source": [
        "# 03. Model Training - Multi-task GreenSpace CNN\n",
        "\n",
        "This notebook implements and trains the multitask CNN using TensorFlow/Keras:\n",
        "\n",
        "## Multitask Architecture\n",
        "- **Backbone**: EfficientNet/ResNet (ImageNet pretrained)\n",
        "- **Task 1**: Structured rating (1-5 scale) → Regression head\n",
        "- **Task 2**: Binary features (6 features) → Multi-binary classification\n",
        "- **Task 3**: Shade level (3 classes) → Categorical classification\n",
        "\n",
        "## Training Features\n",
        "- Multitask loss weighting\n",
        "- Data augmentation\n",
        "- Learning rate scheduling  \n",
        "- Early stopping\n",
        "- Model checkpointing\n"
      ]
    }
  ],
  "metadata": {
    "language_info": {
      "name": "python"
    }
  },
  "nbformat": 4,
  "nbformat_minor": 2
}
