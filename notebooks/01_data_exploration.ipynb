{
  "cells": [
    {
      "cell_type": "markdown",
      "metadata": {},
      "source": [
        "# 01. Data Exploration - GreenSpace Survey\n",
        "\n",
        "This notebook explores the survey response data and images to understand patterns, distributions, and data quality for training our multi-task CNN.\n",
        "\n",
        "## Objectives\n",
        "1. Load and inspect survey responses \n",
        "2. Analyze label distributions and correlations\n",
        "3. Examine image dataset characteristics\n",
        "4. Identify data quality issues\n",
        "5. Create visualizations for insights\n"
      ]
    },
    {
      "cell_type": "code",
      "execution_count": null,
      "metadata": {},
      "outputs": [],
      "source": [
        "# Import libraries\n",
        "import pandas as pd\n",
        "import numpy as np\n",
        "import matplotlib.pyplot as plt\n",
        "import seaborn as sns\n",
        "from pathlib import Path\n",
        "import cv2\n",
        "from PIL import Image\n",
        "import yaml\n",
        "\n",
        "# Set up plotting\n",
        "plt.style.use('default')\n",
        "sns.set_palette(\"husl\")\n",
        "plt.rcParams['figure.figsize'] = (12, 8)\n",
        "\n",
        "# Configuration\n",
        "DATA_DIR = Path(\"../data\")\n",
        "CONFIG_PATH = Path(\"../config/model_config.yaml\")\n",
        "\n",
        "print(\"Libraries imported successfully!\")\n",
        "print(f\"Data directory: {DATA_DIR}\")\n",
        "print(f\"Config path: {CONFIG_PATH}\")\n"
      ]
    }
  ],
  "metadata": {
    "language_info": {
      "name": "python"
    }
  },
  "nbformat": 4,
  "nbformat_minor": 2
}
