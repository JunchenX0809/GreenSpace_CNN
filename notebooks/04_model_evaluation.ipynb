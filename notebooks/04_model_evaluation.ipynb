{
  "cells": [
    {
      "cell_type": "markdown",
      "metadata": {},
      "source": [
        "# 04. Model Evaluation - GreenSpace CNN\n",
        "\n",
        "Comprehensive evaluation of the trained multitask CNN:\n",
        "\n",
        "## Evaluation Components\n",
        "1. **Per-task metrics**: Regression (MAE, R²), Binary (F1, AUC), Categorical (Accuracy)\n",
        "2. **Model interpretability**: Feature importance, activation maps\n",
        "3. **Error analysis**: Failure cases, confusion matrices\n",
        "4. **Spatial analysis**: Geographic patterns in predictions\n",
        "5. **Comparison**: Different architectures and baselines\n",
        "\n"
      ]
    }
  ],
  "metadata": {
    "language_info": {
      "name": "python"
    }
  },
  "nbformat": 4,
  "nbformat_minor": 2
}
